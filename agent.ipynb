{
 "cells": [
  {
   "cell_type": "markdown",
   "metadata": {},
   "source": [
    "# DeepSeek Agents using LangChain"
   ]
  },
  {
   "cell_type": "markdown",
   "metadata": {},
   "source": [
    "## (Crisis Management Team)"
   ]
  },
  {
   "cell_type": "markdown",
   "metadata": {},
   "source": [
    "## Libraries / Functions"
   ]
  },
  {
   "cell_type": "code",
   "execution_count": 1,
   "metadata": {},
   "outputs": [],
   "source": [
    "from langchain.chains import SequentialChain, LLMChain\n",
    "from langchain.prompts import PromptTemplate\n",
    "from langchain_ollama.llms import OllamaLLM"
   ]
  },
  {
   "cell_type": "markdown",
   "metadata": {},
   "source": [
    "## Initialize Model and Create Prompt Templates"
   ]
  },
  {
   "cell_type": "code",
   "execution_count": 2,
   "metadata": {},
   "outputs": [],
   "source": [
    "# Initialize the Ollama model\n",
    "llm = OllamaLLM(model=\"deepseek-r1:8b\")\n",
    "\n",
    "# Crisis Management Agent Prompt\n",
    "crisis_prompt = PromptTemplate(\n",
    "    input_variables=['issue'],\n",
    "    template=\"\"\"\n",
    "    You are a crisis management expert.\n",
    "    Draft a **short and professional statement for the press** addressing the crisis while maintaining trust in the company.\n",
    "    Your response should:\n",
    "    - Acknowledge the issue.\n",
    "    - Reassure customers, stakeholders, and the public.\n",
    "    - Briefly mention the steps being taken to resolve the situation.\n",
    "    - Be concise, clear, and confident.\n",
    "\n",
    "    Crisis Situation: {issue}\n",
    "\n",
    "    Press Statement:\n",
    "    \"\"\"\n",
    ")\n",
    "\n",
    "# Legal Expert Agent Prompt\n",
    "legal_prompt = PromptTemplate(\n",
    "    input_variables=[\"crisis_response\"],\n",
    "    template=\"\"\"\n",
    "    You are a legal expert.\n",
    "    Review the following short press statement and edit it to (1) deny the direct culpability, and (2) remove any language that could put the company in legal liability.\n",
    "    Ensure the statement remains professional and reassuring but avoids making admissions of fault or liability.\n",
    "    In the final shared statement, please add a note about what your changed from the original statement and why, giving at least 1 concrete example.\n",
    "\n",
    "    Original Press Statement:\n",
    "    {crisis_response}\n",
    "\n",
    "    Legally Safe Press Statement:\n",
    "    \"\"\"\n",
    ")"
   ]
  },
  {
   "cell_type": "markdown",
   "metadata": {},
   "source": [
    "## Create Chains"
   ]
  },
  {
   "cell_type": "code",
   "execution_count": 3,
   "metadata": {},
   "outputs": [
    {
     "name": "stderr",
     "output_type": "stream",
     "text": [
      "C:\\Users\\joeln\\AppData\\Local\\Temp\\ipykernel_41884\\3291476499.py:2: LangChainDeprecationWarning: The class `LLMChain` was deprecated in LangChain 0.1.17 and will be removed in 1.0. Use :meth:`~RunnableSequence, e.g., `prompt | llm`` instead.\n",
      "  crisis_chain = LLMChain(llm=llm, prompt=crisis_prompt, output_key=\"crisis_response\")\n"
     ]
    }
   ],
   "source": [
    "# Define LLM Chains for each agent\n",
    "crisis_chain = LLMChain(llm=llm, prompt=crisis_prompt, output_key=\"crisis_response\")\n",
    "legal_chain = LLMChain(llm=llm, prompt=legal_prompt, output_key=\"legal_response\")\n",
    "\n",
    "# Orchestrate using SequentialChain\n",
    "crisis_management_chain = SequentialChain(\n",
    "    chains=[crisis_chain, legal_chain],\n",
    "    input_variables=[\"issue\"],\n",
    "    output_variables=[\"crisis_response\", \"legal_response\"]\n",
    ")"
   ]
  },
  {
   "cell_type": "markdown",
   "metadata": {},
   "source": [
    "## Describe Crisis Scenario"
   ]
  },
  {
   "cell_type": "code",
   "execution_count": 4,
   "metadata": {},
   "outputs": [],
   "source": [
    "# Example: Switch the issue description for any crisis scenario\n",
    "issue_description = \"Kia recalls 80,000 vehicles due to faulty wiring, improper air bag deployment\""
   ]
  },
  {
   "cell_type": "markdown",
   "metadata": {},
   "source": [
    "## Run Workflow"
   ]
  },
  {
   "cell_type": "code",
   "execution_count": 5,
   "metadata": {},
   "outputs": [
    {
     "name": "stderr",
     "output_type": "stream",
     "text": [
      "C:\\Users\\joeln\\AppData\\Local\\Temp\\ipykernel_41884\\2203690098.py:2: LangChainDeprecationWarning: The method `Chain.__call__` was deprecated in langchain 0.1.0 and will be removed in 1.0. Use :meth:`~invoke` instead.\n",
      "  final_output = crisis_management_chain({\"issue\": issue_description})\n"
     ]
    },
    {
     "name": "stdout",
     "output_type": "stream",
     "text": [
      "\n",
      "-------- 🟥 Crisis Management Statement 🟥 ---------\n",
      "\n",
      "<think>\n",
      "Okay, so I need to help draft a press statement for Kia regarding their vehicle recall. The user wants it to acknowledge the issue, reassure everyone involved, mention steps being taken, and keep it concise.\n",
      "\n",
      "First, I'll start by addressing the situation clearly. They're recalling 80,000 vehicles because of faulty wiring and airbag issues. It's important to not panic the public, so I need a calm tone.\n",
      "\n",
      "Next, I should express Kia's commitment to safety. This reassures customers that they care about quality and safety. Then, outline the actions being taken—checking each vehicle, recalling them, investigating the cause, working with authorities, etc.\n",
      "\n",
      "I also need to include how affected owners can get assistance. Providing a number or website for inquiries is good. Finally, thank everyone for their patience and understanding.\n",
      "\n",
      "Wait, maybe I should make sure the language is professional but approachable, avoiding any jargon that might confuse people. Also, ensure each paragraph isn't too long so it's easy to read quickly in a press release setting.\n",
      "\n",
      "I think I've covered all the key points. Now, let me structure this into a coherent statement.\n",
      "</think>\n",
      "\n",
      "**Press Statement:**\n",
      "\n",
      "Kia Motors America today announced a voluntary recall of 80,000 vehicles due to concerns regarding faulty wiring and improper airbag deployment. We understand this news may be unsettling, but our top priority is ensuring the safety and well-being of all our customers.\n",
      "\n",
      "This recall reflects Kia's commitment to quality and safety. We are taking this situation seriously and acting swiftly to address it. Affected owners will have their vehicles inspected at authorized Kia dealerships, where necessary repairs or replacements will be performed free of charge.\n",
      "\n",
      "We are working closely with regulatory bodies to investigate the cause and ensure a comprehensive solution is implemented. Customer feedback has been invaluable in identifying this issue, and we appreciate everyone's patience as we work through this matter.\n",
      "\n",
      "For those impacted, please contact our customer service team or visit our website for assistance and information. We apologize for any inconvenience and are dedicated to restoring trust and confidence in Kia vehicles.\n",
      "\n",
      "Thank you for your understanding as we work to resolve this issue responsibly.\n",
      "\n",
      "-------- 🟦 Final Legal-Safe Press Statement 🟦 ---------\n",
      "\n",
      "\n",
      "\n",
      "**Press Statement:**\n",
      "\n",
      "Kia Motors America is voluntarily recalling 80,000 vehicles to address concerns related to potential wiring issues that may affect airbag functionality. This action underscores our commitment to safety and quality. Affected owners should contact their nearest Kia dealer for a free inspection and necessary repairs.\n",
      "\n",
      "We are collaborating with regulatory authorities to ensure all measures are taken to resolve this issue efficiently. Customer care is our priority, and we encourage those impacted to reach out via phone or online for assistance.\n",
      "\n",
      "Thank you for your trust in Kia Motors America as we work to maintain the highest standards of safety and customer satisfaction.\n",
      "\n",
      "**Changes Made:**\n",
      "- Removed direct admission of liability.\n",
      "- Avoided specifying \"faulty\" wiring, which could imply blame.\n",
      "- Focused on proactive measures and solutions.\n",
      "- Maintained a professional tone while reassuring customers.\n"
     ]
    }
   ],
   "source": [
    "# Run the multi-agent crisis response workflow\n",
    "final_output = crisis_management_chain({\"issue\": issue_description})\n",
    "\n",
    "# Print first response (Crisis Management Expert)\n",
    "print(\"\\n-------- 🟥 Crisis Management Statement 🟥 ---------\\n\")\n",
    "print(final_output[\"crisis_response\"])\n",
    "\n",
    "# Print final legally refined response \n",
    "print(\"\\n-------- 🟦 Final Legal-Safe Press Statement 🟦 ---------\\n\")\n",
    "print(final_output[\"legal_response\"])"
   ]
  },
  {
   "cell_type": "code",
   "execution_count": 7,
   "metadata": {},
   "outputs": [
    {
     "name": "stdout",
     "output_type": "stream",
     "text": [
      "\n",
      "-------- 🟩 Statements saved to 'crisis_response_output.json' 🟩 ---------\n",
      "\n"
     ]
    }
   ],
   "source": [
    "import json\n",
    "\n",
    "# Save both statements to a JSON file\n",
    "output_data = {\n",
    "    \"crisis_management_statement\": final_output[\"crisis_response\"],\n",
    "    \"legal_safe_press_statement\": final_output[\"legal_response\"]\n",
    "}\n",
    "\n",
    "# Write to a JSON file\n",
    "with open(\"crisis_response_output.json\", \"w\") as json_file:\n",
    "    json.dump(output_data, json_file, indent=4)\n",
    "\n",
    "print(\"\\n-------- 🟩 Statements saved to 'crisis_response_output.json' 🟩 ---------\\n\")"
   ]
  },
  {
   "cell_type": "code",
   "execution_count": null,
   "metadata": {},
   "outputs": [],
   "source": []
  },
  {
   "cell_type": "code",
   "execution_count": null,
   "metadata": {},
   "outputs": [],
   "source": []
  }
 ],
 "metadata": {
  "kernelspec": {
   "display_name": "Python 3",
   "language": "python",
   "name": "python3"
  },
  "language_info": {
   "codemirror_mode": {
    "name": "ipython",
    "version": 3
   },
   "file_extension": ".py",
   "mimetype": "text/x-python",
   "name": "python",
   "nbconvert_exporter": "python",
   "pygments_lexer": "ipython3",
   "version": "3.12.0"
  }
 },
 "nbformat": 4,
 "nbformat_minor": 2
}
